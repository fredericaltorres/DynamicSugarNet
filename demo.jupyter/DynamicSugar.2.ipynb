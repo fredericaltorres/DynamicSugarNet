{
 "cells": [
  {
   "cell_type": "markdown",
   "metadata": {},
   "source": [
    "# DynamicSugar.net Demo\n",
    "- Source Code [Repo](https://github.com/fredericaltorres/DynamicSugarNet)\n",
    "- [README.md](https://github.com/fredericaltorres/DynamicSugarNet/blob/master/README.md)\n",
    "\n",
    "## Overview\n",
    "DynamicSugar.net a Library which provides methods and classes inspired by the dynamic languages \n",
    "- Python and \n",
    "- JavaScript \n",
    "to write shorter and more readable source code in C#.\n",
    "\n",
    "Created in 2011 for C# v 4.0 and .NET 4.0.\n",
    "Updated for 2024."
   ]
  },
  {
   "cell_type": "code",
   "execution_count": 1,
   "metadata": {
    "dotnet_interactive": {
     "language": "csharp"
    },
    "polyglot_notebook": {
     "kernelName": "csharp"
    }
   },
   "outputs": [
    {
     "data": {
      "text/html": [
       "<div><div></div><div></div><div><strong>Installed Packages</strong><ul><li><span>DynamicSugarStandard, 1.0.15</span></li></ul></div></div>"
      ]
     },
     "metadata": {},
     "output_type": "display_data"
    }
   ],
   "source": [
    "#r \"nuget: DynamicSugarStandard, 1.0.15\"    \n",
    "using System;\n",
    "using DynamicSugar;"
   ]
  }
 ],
 "metadata": {
  "kernelspec": {
   "display_name": ".NET (C#)",
   "language": "C#",
   "name": ".net-csharp"
  },
  "language_info": {
   "name": "polyglot-notebook"
  },
  "polyglot_notebook": {
   "kernelInfo": {
    "defaultKernelName": "csharp",
    "items": [
     {
      "aliases": [],
      "languageName": "csharp",
      "name": "csharp"
     }
    ]
   }
  }
 },
 "nbformat": 4,
 "nbformat_minor": 2
}
